{
 "cells": [
  {
   "cell_type": "markdown",
   "metadata": {},
   "source": [
    "# News Classification Project Machine Learning\n",
    "\n",
    "Kita pernah melihat berita dibagi menjadi beberapa kategori yang pada umumnya seperti tech, entertaiment, sport dll. Jika kita ingin tahu cara mengklasifikasikan kategori berita dapat menggunakan machine learning. Pada project ini, kita akan membuat melatih sebuah machine learning model untuk tugas klasifikasi berita"
   ]
  },
  {
   "cell_type": "markdown",
   "metadata": {},
   "source": [
    "## 2. Import Library\n",
    "\n",
    "Kita akan menggunakan beberapa library yang disediakan oleh python untuk menyelesaikan project klasifikasi berita ini"
   ]
  },
  {
   "cell_type": "code",
   "execution_count": 1,
   "metadata": {},
   "outputs": [],
   "source": [
    "import pandas as pd # data processing, CSV file I/O (e.g. pd.read_csv)\n",
    "import numpy as np # berfungsi sebagai operasi vektor dan matriks\n",
    "from sklearn.feature_extraction.text import CountVectorizer # untuk menghitung jumlah kemunculan kata\n",
    "from sklearn.model_selection import train_test_split # untuk membagi data menjadi data latih dan data uji\n",
    "from sklearn.naive_bayes import MultinomialNB # untuk mengklasifikasikan data dengan menggunakan metode Naive Bayes varian Multinomial khusus untuk klasifikasi multi kelas"
   ]
  },
  {
   "cell_type": "markdown",
   "metadata": {},
   "source": [
    "## 3. Membaca Dataset\n",
    "\n",
    "Pada dataset ini bertipe .csv yang dibagi menjadi beberapa kelas atau kategori berita\n",
    "1. Sport\n",
    "2. Business\n",
    "3. Politics\n",
    "4. Tech\n",
    "5. Entertaiment"
   ]
  },
  {
   "cell_type": "code",
   "execution_count": 2,
   "metadata": {},
   "outputs": [
    {
     "data": {
      "text/html": [
       "<div>\n",
       "<style scoped>\n",
       "    .dataframe tbody tr th:only-of-type {\n",
       "        vertical-align: middle;\n",
       "    }\n",
       "\n",
       "    .dataframe tbody tr th {\n",
       "        vertical-align: top;\n",
       "    }\n",
       "\n",
       "    .dataframe thead th {\n",
       "        text-align: right;\n",
       "    }\n",
       "</style>\n",
       "<table border=\"1\" class=\"dataframe\">\n",
       "  <thead>\n",
       "    <tr style=\"text-align: right;\">\n",
       "      <th></th>\n",
       "      <th>category</th>\n",
       "      <th>filename</th>\n",
       "      <th>title</th>\n",
       "      <th>content</th>\n",
       "    </tr>\n",
       "  </thead>\n",
       "  <tbody>\n",
       "    <tr>\n",
       "      <th>0</th>\n",
       "      <td>business</td>\n",
       "      <td>001.txt</td>\n",
       "      <td>Ad sales boost Time Warner profit</td>\n",
       "      <td>Quarterly profits at US media giant TimeWarne...</td>\n",
       "    </tr>\n",
       "    <tr>\n",
       "      <th>1</th>\n",
       "      <td>business</td>\n",
       "      <td>002.txt</td>\n",
       "      <td>Dollar gains on Greenspan speech</td>\n",
       "      <td>The dollar has hit its highest level against ...</td>\n",
       "    </tr>\n",
       "    <tr>\n",
       "      <th>2</th>\n",
       "      <td>business</td>\n",
       "      <td>003.txt</td>\n",
       "      <td>Yukos unit buyer faces loan claim</td>\n",
       "      <td>The owners of embattled Russian oil giant Yuk...</td>\n",
       "    </tr>\n",
       "    <tr>\n",
       "      <th>3</th>\n",
       "      <td>business</td>\n",
       "      <td>004.txt</td>\n",
       "      <td>High fuel prices hit BA's profits</td>\n",
       "      <td>British Airways has blamed high fuel prices f...</td>\n",
       "    </tr>\n",
       "    <tr>\n",
       "      <th>4</th>\n",
       "      <td>business</td>\n",
       "      <td>005.txt</td>\n",
       "      <td>Pernod takeover talk lifts Domecq</td>\n",
       "      <td>Shares in UK drinks and food firm Allied Dome...</td>\n",
       "    </tr>\n",
       "    <tr>\n",
       "      <th>5</th>\n",
       "      <td>business</td>\n",
       "      <td>006.txt</td>\n",
       "      <td>Japan narrowly escapes recession</td>\n",
       "      <td>Japan's economy teetered on the brink of a te...</td>\n",
       "    </tr>\n",
       "    <tr>\n",
       "      <th>6</th>\n",
       "      <td>business</td>\n",
       "      <td>007.txt</td>\n",
       "      <td>Jobs growth still slow in the US</td>\n",
       "      <td>The US created fewer jobs than expected in Ja...</td>\n",
       "    </tr>\n",
       "    <tr>\n",
       "      <th>7</th>\n",
       "      <td>business</td>\n",
       "      <td>008.txt</td>\n",
       "      <td>India calls for fair trade rules</td>\n",
       "      <td>India, which attends the G7 meeting of seven ...</td>\n",
       "    </tr>\n",
       "    <tr>\n",
       "      <th>8</th>\n",
       "      <td>business</td>\n",
       "      <td>009.txt</td>\n",
       "      <td>Ethiopia's crop production up 24%</td>\n",
       "      <td>Ethiopia produced 14.27 million tonnes of cro...</td>\n",
       "    </tr>\n",
       "    <tr>\n",
       "      <th>9</th>\n",
       "      <td>business</td>\n",
       "      <td>010.txt</td>\n",
       "      <td>Court rejects $280bn tobacco case</td>\n",
       "      <td>A US government claim accusing the country's ...</td>\n",
       "    </tr>\n",
       "  </tbody>\n",
       "</table>\n",
       "</div>"
      ],
      "text/plain": [
       "   category filename                              title  \\\n",
       "0  business  001.txt  Ad sales boost Time Warner profit   \n",
       "1  business  002.txt   Dollar gains on Greenspan speech   \n",
       "2  business  003.txt  Yukos unit buyer faces loan claim   \n",
       "3  business  004.txt  High fuel prices hit BA's profits   \n",
       "4  business  005.txt  Pernod takeover talk lifts Domecq   \n",
       "5  business  006.txt   Japan narrowly escapes recession   \n",
       "6  business  007.txt   Jobs growth still slow in the US   \n",
       "7  business  008.txt   India calls for fair trade rules   \n",
       "8  business  009.txt  Ethiopia's crop production up 24%   \n",
       "9  business  010.txt  Court rejects $280bn tobacco case   \n",
       "\n",
       "                                             content  \n",
       "0   Quarterly profits at US media giant TimeWarne...  \n",
       "1   The dollar has hit its highest level against ...  \n",
       "2   The owners of embattled Russian oil giant Yuk...  \n",
       "3   British Airways has blamed high fuel prices f...  \n",
       "4   Shares in UK drinks and food firm Allied Dome...  \n",
       "5   Japan's economy teetered on the brink of a te...  \n",
       "6   The US created fewer jobs than expected in Ja...  \n",
       "7   India, which attends the G7 meeting of seven ...  \n",
       "8   Ethiopia produced 14.27 million tonnes of cro...  \n",
       "9   A US government claim accusing the country's ...  "
      ]
     },
     "execution_count": 2,
     "metadata": {},
     "output_type": "execute_result"
    }
   ],
   "source": [
    "data = pd.read_csv('news.csv', sep='\\t') # membaca file csv dan menyimpannya ke dalam variabel data\n",
    "data.head(10)"
   ]
  },
  {
   "cell_type": "code",
   "execution_count": 7,
   "metadata": {},
   "outputs": [
    {
     "name": "stdout",
     "output_type": "stream",
     "text": [
      "title       0\n",
      "category    0\n",
      "dtype: int64\n",
      "sport            511\n",
      "business         510\n",
      "politics         417\n",
      "tech             401\n",
      "entertainment    386\n",
      "Name: category, dtype: int64\n",
      "2225\n"
     ]
    }
   ],
   "source": [
    "print(data.isnull().sum()) # mengecek apakah ada data yang kosong\n",
    "print(data['category'].value_counts()) # mengecek jumlah data pada setiap kategori\n",
    "print(len(data)) # mengecek jumlah data"
   ]
  },
  {
   "cell_type": "markdown",
   "metadata": {},
   "source": [
    "**Catatan**\n",
    "Perhatikan hasil eksekusi kode diatas bahwa untuk setiap kategoi tidak memiliki nilai atau value yang **null** dan dataset ini berjenis imbalanced dataset atau yang lebih dikenal jumlah data pada setiap kelas tidak seimbang atau sama"
   ]
  },
  {
   "cell_type": "markdown",
   "metadata": {},
   "source": [
    "## 3. Data Preprocessing"
   ]
  },
  {
   "cell_type": "code",
   "execution_count": 6,
   "metadata": {},
   "outputs": [
    {
     "name": "stdout",
     "output_type": "stream",
     "text": [
      "Dimensi Untuk X_Train : (1490, 3754)\n",
      "Dimensi Untuk X_test  : (735, 3754)\n",
      "Dimensi Untuk y_Train : (1490,)\n",
      "Dimensi Untuk y_test  : (735,)\n"
     ]
    }
   ],
   "source": [
    "data = data[['title', 'category']] # mengambil kolom title dan category saja\n",
    "\n",
    "X = np.array(data['title']) # mengambil kolom title dan menyimpannya ke dalam variabel X\n",
    "y = np.array(data['category']) # mengambil kolom category dan menyimpannya ke dalam variabel y\n",
    "\n",
    "cv = CountVectorizer() # membuat objek CountVectorizer\n",
    "X = cv.fit_transform(X) # mengubah data menjadi vektor\n",
    "\n",
    "X_train, X_test, y_train, y_test = train_test_split(X, y, test_size=0.33, random_state=42) # membagi data menjadi data latih dan data uji dengan perbandingan 67:33\n",
    "\n",
    "print(f'Dimensi Untuk X_Train : {X_train.shape}') # mengecek dimensi data latih pada variabel X\n",
    "print(f'Dimensi Untuk X_test  : {X_test.shape}') # mengecek dimensi data uji pada variabel X\n",
    "print(f'Dimensi Untuk y_Train : {y_train.shape}') # mengecek dimensi data latih pada variabel y\n",
    "print(f'Dimensi Untuk y_test  : {y_test.shape}') # mengecek dimensi data uji pada variabel y"
   ]
  },
  {
   "cell_type": "markdown",
   "metadata": {},
   "source": [
    "**Catatan**\n",
    "\n",
    "Perhatikan hasil eksekusi kode diatas, variabel X dan y masing-masing berisi data pada kolom title (predictor) dan category (class). sedangkan untuk dimensi X_train, X_test, y_train, dan y_test dapat dilihat diatas.\n",
    "1. Jumlah Data : 2225\n",
    "2. Data Latih Berjumlah : 1490 (67%)\n",
    "3. Data Uji Berjumlah : 735 (33%)\n",
    "\n",
    "Sedangkan untuk dimensi yang dihasilkan pada variabel X adalah 3754 kolom yang artinya pada variabel X memiliki matrix 1490x3754. 3754 dapat diartikan terbentuknya banyaknya kosa kata pada dataset kolom title"
   ]
  },
  {
   "cell_type": "markdown",
   "metadata": {},
   "source": [
    "## 4. Membuat Model Machine Learning\n",
    "\n",
    "Pada project ini kita akan menggunkana salah satu varian pada naive bayes yakni Multinomial yang khusus untuk mengklasifikasikan data text dengan multi kelas. dikarenakan seperti diawal kita memiliki 5 ketageri yang berarti 5 kelas atau label."
   ]
  },
  {
   "cell_type": "code",
   "execution_count": 8,
   "metadata": {},
   "outputs": [
    {
     "name": "stdout",
     "output_type": "stream",
     "text": [
      "0.819047619047619\n"
     ]
    }
   ],
   "source": [
    "model = MultinomialNB() # membuat objek MultinomialNB\n",
    "model.fit(X_train, y_train) # melakukan pelatihan model dengan data latih\n",
    "\n",
    "print(model.score(X_test, y_test)) # mengecek akurasi model dengan data uji"
   ]
  },
  {
   "cell_type": "markdown",
   "metadata": {},
   "source": [
    "## 5. Pengujian"
   ]
  },
  {
   "cell_type": "markdown",
   "metadata": {},
   "source": [
    "**Catatan**\n",
    "\n",
    "Dapat kita lihat diatas bahwa akurasi pada model dengan data uji ialah **0.819047619047619** atau dengan kata lain model machine learning ini dapat mengklasifikasikan berita berdasarkan topik atau judul sebesar 81% akurasi"
   ]
  },
  {
   "cell_type": "code",
   "execution_count": 10,
   "metadata": {},
   "outputs": [
    {
     "name": "stdout",
     "output_type": "stream",
     "text": [
      "['tech']\n"
     ]
    }
   ],
   "source": [
    "user = input('Masukkan Judul Berita : ') # meminta input judul berita dari user\n",
    "data = cv.transform([user]).toarray() # mengubah data menjadi vektor\n",
    "output = model.predict(data) # melakukan prediksi dengan model yang sudah dilatih\n",
    "print(output) # menampilkan hasil prediksi"
   ]
  }
 ],
 "metadata": {
  "kernelspec": {
   "display_name": "Python 3.9.13",
   "language": "python",
   "name": "python3"
  },
  "language_info": {
   "codemirror_mode": {
    "name": "ipython",
    "version": 3
   },
   "file_extension": ".py",
   "mimetype": "text/x-python",
   "name": "python",
   "nbconvert_exporter": "python",
   "pygments_lexer": "ipython3",
   "version": "3.9.13"
  },
  "orig_nbformat": 4,
  "vscode": {
   "interpreter": {
    "hash": "3f8efe6f8c472f9f769de94b02d12f378fc577fc6207da273e460a2116b30721"
   }
  }
 },
 "nbformat": 4,
 "nbformat_minor": 2
}
